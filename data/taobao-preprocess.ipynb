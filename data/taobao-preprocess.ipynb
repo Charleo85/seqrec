{
 "cells": [
  {
   "cell_type": "code",
   "execution_count": null,
   "metadata": {
    "collapsed": true
   },
   "outputs": [],
   "source": []
  },
  {
   "cell_type": "code",
   "execution_count": 1,
   "metadata": {
    "collapsed": true,
    "nbpresent": {
     "id": "96eabc43-9349-4453-bad5-c04c2f54439b"
    }
   },
   "outputs": [],
   "source": [
    "import numpy as np\n",
    "import pandas as pd\n",
    "from datetime import datetime\n",
    "from collections import defaultdict\n",
    "import pickle\n",
    "import math\n",
    "from os import path\n",
    "import matplotlib.pyplot as plt\n",
    "import matplotlib\n",
    "from datetime import datetime\n"
   ]
  },
  {
   "cell_type": "code",
   "execution_count": 2,
   "metadata": {
    "collapsed": true
   },
   "outputs": [],
   "source": [
    "data_prefix = '/home/rc7ne/Project/SessionRecommendation/Data/tmall/100000/'\n",
    "itemKey = 'train_item.pickle'\n",
    "timeKey = 'train_time.pickle'\n",
    "\n",
    "time_filename = data_prefix + timeKey\n",
    "time_seq_arr_total = pickle.load(open(time_filename, \"rb\"))\n",
    "\n",
    "item_filename = data_prefix + itemKey\n",
    "data_file = open(item_filename, \"rb\")\n",
    "m_seq_list = pickle.load(data_file) "
   ]
  },
  {
   "cell_type": "code",
   "execution_count": 4,
   "metadata": {},
   "outputs": [
    {
     "name": "stdout",
     "output_type": "stream",
     "text": [
      "1510804871 [1510804871, 1511588363, 1511588379, 1511608100, 1511614924, 1511615140, 1511615204, 1511615794, 1511616221, 1511668785, 1511668803, 1511679672, 1511679739, 1511680222, 1511692407, 1511698656, 1511699566, 1511759670, 1511869176, 1511871836, 1511871842, 1511872869, 1511872946, 1511872949, 1511872964, 1511872974, 1511873103, 1511874287, 1512133743, 1512223499, 1512223582, 1512223763, 1512283981, 1512283992, 1512284130, 1512284142, 1512284280, 1512284848, 1512284947, 1512284959, 1512285268, 1512285830, 1512285856, 1512286055, 1512286239, 1512286301, 1512286401, 1512286411, 1512286760]\n",
      "1510391863 [1510391863, 1511749724, 1511749738, 1511771610, 1511771745, 1512092768, 1512092872, 1512092877, 1512092893, 1512092963, 1512092990, 1512093254, 1512093365, 1512093695, 1512093840, 1512110626, 1512111893, 1512131622, 1512180259, 1512180418, 1512180490, 1512181807, 1512181923, 1512223085]\n",
      "1510624240 [1510624240, 1511877755, 1511877761, 1511877865, 1511878228, 1511878712, 1512303650, 1512303661, 1512303665, 1512303696, 1512303703, 1512309514]\n",
      "1760883027 [1511820172, 1512201493, 1512201574, 1512201650, 1512208424, 1512276857, 1512278081, 1512278169, 1760883027, 1760883394, 1761227428, 1761227822, 1761227967, 1761228000, 1761228333]\n",
      "1760883394 [1511820172, 1512201493, 1512201574, 1512201650, 1512208424, 1512276857, 1512278081, 1512278169, 1760883027, 1760883394, 1761227428, 1761227822, 1761227967, 1761228000, 1761228333]\n",
      "1761227428 [1511820172, 1512201493, 1512201574, 1512201650, 1512208424, 1512276857, 1512278081, 1512278169, 1760883027, 1760883394, 1761227428, 1761227822, 1761227967, 1761228000, 1761228333]\n",
      "1761227822 [1511820172, 1512201493, 1512201574, 1512201650, 1512208424, 1512276857, 1512278081, 1512278169, 1760883027, 1760883394, 1761227428, 1761227822, 1761227967, 1761228000, 1761228333]\n",
      "1761227967 [1511820172, 1512201493, 1512201574, 1512201650, 1512208424, 1512276857, 1512278081, 1512278169, 1760883027, 1760883394, 1761227428, 1761227822, 1761227967, 1761228000, 1761228333]\n",
      "1761228000 [1511820172, 1512201493, 1512201574, 1512201650, 1512208424, 1512276857, 1512278081, 1512278169, 1760883027, 1760883394, 1761227428, 1761227822, 1761227967, 1761228000, 1761228333]\n",
      "1761228333 [1511820172, 1512201493, 1512201574, 1512201650, 1512208424, 1512276857, 1512278081, 1512278169, 1760883027, 1760883394, 1761227428, 1761227822, 1761227967, 1761228000, 1761228333]\n"
     ]
    }
   ],
   "source": [
    "cnt = 0\n",
    "for t in time_seq_arr_total:\n",
    "    for ti in t:\n",
    "        if ti < 1511136000 or ti > 1512432000:\n",
    "            print(ti, t)\n",
    "            cnt += 1\n",
    "            break\n",
    "    if cnt > 5: break"
   ]
  },
  {
   "cell_type": "code",
   "execution_count": 4,
   "metadata": {
    "collapsed": true,
    "nbpresent": {
     "id": "899c630c-522c-4c9d-8307-0f9881047569"
    }
   },
   "outputs": [],
   "source": [
    "# SRC = '/home/jw7jb/seqrec/hawkes/dataset/'\n",
    "SRC = '../'\n",
    "dataset_name = 'taobao'\n",
    "TRAIN_FILE = SRC + dataset_name + '_train.pickle'\n",
    "TEST_FILE = SRC + dataset_name + '_test.pickle'\n",
    "MISC_FILE = SRC + dataset_name + '_misc.pickle'"
   ]
  },
  {
   "cell_type": "code",
   "execution_count": 3,
   "metadata": {
    "collapsed": true,
    "nbpresent": {
     "id": "acd23099-7267-4a5f-912e-02330deb08f8"
    }
   },
   "outputs": [],
   "source": [
    "# data_home = '/home/jw7jb/data/taobao/'\n",
    "data_home = './'\n",
    "data_src = 'UserBehavior.csv'\n",
    "df = pd.read_csv(data_home+data_src) "
   ]
  },
  {
   "cell_type": "code",
   "execution_count": 4,
   "metadata": {
    "collapsed": true,
    "nbpresent": {
     "id": "96a73cf8-aea9-47ab-be27-203172dbf771"
    }
   },
   "outputs": [],
   "source": [
    "df.sort_values(by=['userid', 'timestamp'], ascending=True, inplace=True)"
   ]
  },
  {
   "cell_type": "code",
   "execution_count": 121,
   "metadata": {
    "nbpresent": {
     "id": "67175197-9819-426d-9ea1-17ba90c1c8e3"
    }
   },
   "outputs": [
    {
     "data": {
      "text/plain": [
       "((7879602, 5),    userid   itemid  categoryid behavior   timestamp\n",
       " 0       1  2268318     2520377       pv  1511544070\n",
       " 1       1  2333346     2520771       pv  1511561733\n",
       " 2       1  2576651      149192       pv  1511572885\n",
       " 3       1  3830808     4181361       pv  1511593493\n",
       " 4       1  4365585     2520377       pv  1511596146)"
      ]
     },
     "execution_count": 121,
     "metadata": {},
     "output_type": "execute_result"
    }
   ],
   "source": [
    "df.shape, df.head()"
   ]
  },
  {
   "cell_type": "markdown",
   "metadata": {
    "nbpresent": {
     "id": "4ffb1332-1a6d-415a-80a9-ddef2da48434"
    }
   },
   "source": [
    "### drop low freq catagory"
   ]
  },
  {
   "cell_type": "code",
   "execution_count": 6,
   "metadata": {
    "collapsed": true,
    "nbpresent": {
     "id": "c827b9ad-e1b3-4c43-bf3d-af26a6414367"
    }
   },
   "outputs": [],
   "source": [
    "cate_freq = df['categoryid'].value_counts()"
   ]
  },
  {
   "cell_type": "code",
   "execution_count": 9,
   "metadata": {
    "nbpresent": {
     "id": "0c3b3045-5777-4013-b0ff-94dd7a0a841e"
    }
   },
   "outputs": [
    {
     "data": {
      "text/plain": [
       "(array([0.06137631, 0.07967911, 0.09860118, 0.12089482, 0.12337189,\n",
       "        0.09887641, 0.04775242, 0.01438077, 0.00357799, 0.00096331]),\n",
       " array([ 0.        ,  1.53970696,  3.07941393,  4.61912089,  6.15882786,\n",
       "         7.69853482,  9.23824179, 10.77794875, 12.31765571, 13.85736268,\n",
       "        15.39706964]),\n",
       " <a list of 10 Patch objects>)"
      ]
     },
     "execution_count": 9,
     "metadata": {},
     "output_type": "execute_result"
    },
    {
     "data": {
      "image/png": "[encoded data removed]",
      "text/plain": [
       "<Figure size 432x288 with 1 Axes>"
      ]
     },
     "metadata": {
      "needs_background": "light"
     },
     "output_type": "display_data"
    }
   ],
   "source": [
    "hist = [math.log(v) for k, v in cate_freq.items()]\n",
    "plt.hist(hist, density=True)"
   ]
  },
  {
   "cell_type": "code",
   "execution_count": 10,
   "metadata": {
    "nbpresent": {
     "id": "83549898-ab7a-46fe-8e8d-387d5d630202"
    }
   },
   "outputs": [
    {
     "data": {
      "text/plain": [
       "0.1455662676130946"
      ]
     },
     "execution_count": 10,
     "metadata": {},
     "output_type": "execute_result"
    }
   ],
   "source": [
    "remove_list = set()\n",
    "for k, v in cate_freq.items():\n",
    "    if v < 10:\n",
    "        remove_list.add(k)\n",
    "len(remove_list) / len(cate_freq.keys() )"
   ]
  },
  {
   "cell_type": "code",
   "execution_count": 11,
   "metadata": {
    "collapsed": true,
    "nbpresent": {
     "id": "c6fd36b3-bce5-45cc-95ca-ab426ad182d3"
    }
   },
   "outputs": [],
   "source": [
    "df.drop(df[ df.itemid.isin(remove_list) ].index, inplace=True)"
   ]
  },
  {
   "cell_type": "code",
   "execution_count": 19,
   "metadata": {
    "nbpresent": {
     "id": "50065d31-d82b-4304-bb97-38d35a24999b"
    }
   },
   "outputs": [
    {
     "data": {
      "text/plain": [
       "(85542068, 987716, 732382, 5997)"
      ]
     },
     "execution_count": 19,
     "metadata": {},
     "output_type": "execute_result"
    }
   ],
   "source": [
    "df.shape[0], df.userid.nunique(), df.itemid.nunique(), df.categoryid.nunique()"
   ]
  },
  {
   "cell_type": "markdown",
   "metadata": {
    "nbpresent": {
     "id": "1dfbdb0b-cdaa-40c5-a691-4935f47f3e47"
    }
   },
   "source": [
    "### drop low freq item"
   ]
  },
  {
   "cell_type": "code",
   "execution_count": 13,
   "metadata": {
    "collapsed": true,
    "nbpresent": {
     "id": "d50a8940-1722-4f3f-828b-d2233471378a"
    }
   },
   "outputs": [],
   "source": [
    "item_freq = df['itemid'].value_counts()"
   ]
  },
  {
   "cell_type": "code",
   "execution_count": 15,
   "metadata": {
    "nbpresent": {
     "id": "569fb836-6026-4e36-bd9c-445b00902bc0"
    }
   },
   "outputs": [
    {
     "data": {
      "text/plain": [
       "(array([4.08524590e-01, 2.38275187e-01, 1.62830821e-01, 8.71030287e-02,\n",
       "        4.27339445e-02, 1.66553983e-02, 4.94610656e-03, 9.80898814e-04,\n",
       "        1.21369757e-04, 7.39777564e-06]),\n",
       " array([ 0.        ,  1.03930793,  2.07861587,  3.1179238 ,  4.15723173,\n",
       "         5.19653966,  6.2358476 ,  7.27515553,  8.31446346,  9.35377139,\n",
       "        10.39307933]),\n",
       " <a list of 10 Patch objects>)"
      ]
     },
     "execution_count": 15,
     "metadata": {},
     "output_type": "execute_result"
    },
    {
     "data": {
      "image/png": "[encoded data removed]",
      "text/plain": [
       "<Figure size 432x288 with 1 Axes>"
      ]
     },
     "metadata": {
      "needs_background": "light"
     },
     "output_type": "display_data"
    }
   ],
   "source": [
    "hist = [math.log(v) for k, v in item_freq.items()]\n",
    "plt.hist(hist, density=True)"
   ]
  },
  {
   "cell_type": "code",
   "execution_count": 14,
   "metadata": {
    "nbpresent": {
     "id": "7117ee9b-2e3d-456b-b6b6-f07c15f9c062"
    }
   },
   "outputs": [
    {
     "data": {
      "text/plain": [
       "0.8240322496938989"
      ]
     },
     "execution_count": 14,
     "metadata": {},
     "output_type": "execute_result"
    }
   ],
   "source": [
    "remove_list = set()\n",
    "for k, v in item_freq.items():\n",
    "    if v < 20:\n",
    "        remove_list.add(k)\n",
    "len(remove_list) / len(item_freq.keys() )"
   ]
  },
  {
   "cell_type": "code",
   "execution_count": 16,
   "metadata": {
    "collapsed": true,
    "nbpresent": {
     "id": "5eda6280-a58d-4e40-adc7-809bbe8b0243"
    }
   },
   "outputs": [],
   "source": [
    "df.drop(df[ df.itemid.isin(remove_list) ].index, inplace=True)"
   ]
  },
  {
   "cell_type": "code",
   "execution_count": 20,
   "metadata": {
    "nbpresent": {
     "id": "a7219b85-efff-4186-a879-6ca597a7e540"
    }
   },
   "outputs": [
    {
     "data": {
      "text/plain": [
       "(85542068, 987716, 732382, 5997)"
      ]
     },
     "execution_count": 20,
     "metadata": {},
     "output_type": "execute_result"
    }
   ],
   "source": [
    "df.shape[0], df.userid.nunique(), df.itemid.nunique(), df.categoryid.nunique()"
   ]
  },
  {
   "cell_type": "markdown",
   "metadata": {
    "nbpresent": {
     "id": "ca963b36-ee1c-47b3-a6cf-f13e9430a874"
    }
   },
   "source": [
    "### drop low freq user"
   ]
  },
  {
   "cell_type": "code",
   "execution_count": 21,
   "metadata": {
    "collapsed": true,
    "nbpresent": {
     "id": "02c2af6c-86c2-4f99-92f4-e478d7df7dc4"
    }
   },
   "outputs": [],
   "source": [
    "user_freq = df.userid.value_counts()"
   ]
  },
  {
   "cell_type": "code",
   "execution_count": 22,
   "metadata": {
    "nbpresent": {
     "id": "f74ba0ae-6c76-418f-968b-5960e9c2f0f7"
    }
   },
   "outputs": [
    {
     "data": {
      "text/plain": [
       "(array([0.00090151, 0.00504847, 0.02811656, 0.08611936, 0.20536436,\n",
       "        0.34465169, 0.4050257 , 0.30532457, 0.10880261, 0.00717876]),\n",
       " array([0.        , 0.66821086, 1.33642172, 2.00463258, 2.67284344,\n",
       "        3.3410543 , 4.00926516, 4.67747602, 5.34568688, 6.01389774,\n",
       "        6.6821086 ]),\n",
       " <a list of 10 Patch objects>)"
      ]
     },
     "execution_count": 22,
     "metadata": {},
     "output_type": "execute_result"
    },
    {
     "data": {
      "image/png": "[encoded data removed]",
      "text/plain": [
       "<Figure size 432x288 with 1 Axes>"
      ]
     },
     "metadata": {
      "needs_background": "light"
     },
     "output_type": "display_data"
    }
   ],
   "source": [
    "hist = [math.log(v) for k, v in user_freq.items()]\n",
    "plt.hist(hist, density=True)"
   ]
  },
  {
   "cell_type": "code",
   "execution_count": 24,
   "metadata": {
    "collapsed": true,
    "nbpresent": {
     "id": "35382b92-62fd-4a0f-9ec4-7460f81b8d5c"
    }
   },
   "outputs": [],
   "source": [
    "bad_users = user_freq[user_freq > 200].index\n",
    "df.drop(df[ df.userid.isin(bad_users) ].index, inplace=True)\n",
    "\n",
    "bad_users = user_freq[user_freq < 20].index\n",
    "df.drop(df[ df.userid.isin(bad_users) ].index, inplace=True)"
   ]
  },
  {
   "cell_type": "code",
   "execution_count": 25,
   "metadata": {
    "nbpresent": {
     "id": "a4d57ef9-4add-4c83-9255-21fd94fff12c"
    }
   },
   "outputs": [
    {
     "data": {
      "text/plain": [
       "(60396873, 774726, 732212, 5997)"
      ]
     },
     "execution_count": 25,
     "metadata": {},
     "output_type": "execute_result"
    }
   ],
   "source": [
    "df.shape[0], df.userid.nunique(), df.itemid.nunique(), df.categoryid.nunique()"
   ]
  },
  {
   "cell_type": "code",
   "execution_count": 26,
   "metadata": {
    "collapsed": true,
    "nbpresent": {
     "id": "211d96e3-5471-4367-afd9-129d264ea4cc"
    }
   },
   "outputs": [],
   "source": [
    "pickle.dump( df, open('taobao_small.pickle', 'wb'))"
   ]
  },
  {
   "cell_type": "code",
   "execution_count": 56,
   "metadata": {
    "collapsed": true,
    "nbpresent": {
     "id": "3d1c4557-eb76-4b3c-b828-cefb7d1bc772"
    }
   },
   "outputs": [],
   "source": [
    "df = pickle.load( open('taobao_small.pickle', 'rb'))"
   ]
  },
  {
   "cell_type": "code",
   "execution_count": 57,
   "metadata": {
    "collapsed": true,
    "nbpresent": {
     "id": "ca0d7eb6-8d39-43bf-a5c5-a9ef96743ec9"
    }
   },
   "outputs": [],
   "source": [
    "df.drop(df[ df.userid >= df.userid.unique()[100000] ].index, inplace=True)"
   ]
  },
  {
   "cell_type": "code",
   "execution_count": 58,
   "metadata": {
    "nbpresent": {
     "id": "3950fedc-7d6b-455e-af71-4bc33499af21"
    }
   },
   "outputs": [
    {
     "data": {
      "text/plain": [
       "(7879602, 100000, 677940, 5870)"
      ]
     },
     "execution_count": 58,
     "metadata": {},
     "output_type": "execute_result"
    }
   ],
   "source": [
    "df.shape[0], df.userid.nunique(), df.itemid.nunique(), df.categoryid.nunique()"
   ]
  },
  {
   "cell_type": "code",
   "execution_count": 66,
   "metadata": {
    "nbpresent": {
     "id": "511b40f0-2e3b-46bc-8faf-dc059b90e801"
    }
   },
   "outputs": [
    {
     "name": "stdout",
     "output_type": "stream",
     "text": [
      "{'pv': 0, 'fav': 1, 'buy': 2, 'cart': 3}\n"
     ]
    }
   ],
   "source": [
    "# print( [ (p, q) for p,q in zip( df.userid.values[:100], df.behavior.values[:100] ) ] )\n",
    "a_map = {}\n",
    "ids = 0\n",
    "for p in df.behavior.values[:100]:\n",
    "    if p not in a_map:\n",
    "        a_map[p] = ids\n",
    "        ids += 1\n",
    "print(a_map)"
   ]
  },
  {
   "cell_type": "code",
   "execution_count": 28,
   "metadata": {
    "collapsed": true,
    "nbpresent": {
     "id": "ef2bef67-21dd-4adc-9cba-75f913ef9393"
    }
   },
   "outputs": [],
   "source": [
    "max_user = 100000\n",
    "t_list = []\n",
    "y_list = []\n",
    "c_list = []\n",
    "a_list = []\n",
    "u_list = []\n",
    "\n",
    "for user in df.userid.unique():\n",
    "    user_seq = df.loc[df.userid==user]\n",
    "#     user_t = user_seq['timestamp'].values\n",
    "#     user_y = user_seq['itemid'].values\n",
    "#     user_c = user_seq['categoryid'].values\n",
    "#     user_a = user_seq['behavior'].values\n",
    "    \n",
    "    t_list.append(user_seq['timestamp'].values)\n",
    "    y_list.append(user_seq['itemid'].values)\n",
    "    c_list.append(user_seq['categoryid'].values)\n",
    "    a_list.append(user_seq['behavior'].values)\n",
    "    u_list.append(user) \n",
    "    \n",
    "    if len(u_list) >= 100000: break\n",
    "    \n"
   ]
  },
  {
   "cell_type": "code",
   "execution_count": 40,
   "metadata": {
    "collapsed": true,
    "nbpresent": {
     "id": "86e90818-30e3-48ce-b7ae-a4e9c621836d"
    }
   },
   "outputs": [],
   "source": [
    "def normalize_id(xlist):\n",
    "    xmap = {}\n",
    "    idx = 0\n",
    "    for i in range(len(xlist)):\n",
    "        for j in range(xlist[i].shape[0]):\n",
    "            key = xlist[i][j]\n",
    "            if key not in xmap: \n",
    "                xmap[key] = idx\n",
    "                idx += 1\n",
    "            xlist[i][j] = xmap[key] \n",
    "    return xmap"
   ]
  },
  {
   "cell_type": "code",
   "execution_count": 55,
   "metadata": {
    "nbpresent": {
     "id": "d8d3ddac-358c-4e00-898b-0d4be83dece2"
    }
   },
   "outputs": [
    {
     "ename": "NameError",
     "evalue": "name 'c_map' is not defined",
     "output_type": "error",
     "traceback": [
      "\u001b[0;31m---------------------------------------------------------------------------\u001b[0m",
      "\u001b[0;31mNameError\u001b[0m                                 Traceback (most recent call last)",
      "\u001b[0;32m<ipython-input-55-4a87e21bb203>\u001b[0m in \u001b[0;36m<module>\u001b[0;34m()\u001b[0m\n\u001b[0;32m----> 1\u001b[0;31m \u001b[0mc_map\u001b[0m\u001b[0;34m[\u001b[0m\u001b[0;36m4756105\u001b[0m\u001b[0;34m]\u001b[0m\u001b[0;34m,\u001b[0m \u001b[0mc_map\u001b[0m\u001b[0;34m[\u001b[0m\u001b[0;36m4145813\u001b[0m\u001b[0;34m]\u001b[0m\u001b[0;34m\u001b[0m\u001b[0;34m\u001b[0m\u001b[0m\n\u001b[0m",
      "\u001b[0;31mNameError\u001b[0m: name 'c_map' is not defined"
     ]
    }
   ],
   "source": [
    "c_map[4756105], c_map[4145813]"
   ]
  },
  {
   "cell_type": "code",
   "execution_count": 41,
   "metadata": {
    "collapsed": true,
    "nbpresent": {
     "id": "c495ebbf-aca9-4390-a63f-50d3656d70f8"
    }
   },
   "outputs": [],
   "source": [
    "c_map = normalize_id(c_list)"
   ]
  },
  {
   "cell_type": "code",
   "execution_count": 52,
   "metadata": {
    "collapsed": true,
    "nbpresent": {
     "id": "c033ad5d-3726-4e8a-a17b-d6ec8e8d0b3f"
    }
   },
   "outputs": [],
   "source": [
    "a_map = normalize_id(a_list)"
   ]
  },
  {
   "cell_type": "code",
   "execution_count": 53,
   "metadata": {
    "collapsed": true,
    "nbpresent": {
     "id": "a03d542e-2d7e-4b64-8456-a2c9c57e45cc"
    }
   },
   "outputs": [],
   "source": [
    "y_map = normalize_id(y_list)"
   ]
  },
  {
   "cell_type": "code",
   "execution_count": 56,
   "metadata": {
    "collapsed": true,
    "nbpresent": {
     "id": "97dd213f-17b3-4c80-a007-3e5660b5b6d0"
    }
   },
   "outputs": [],
   "source": [
    "pickle.dump((t_list, y_list, c_list, a_list, u_list), open(TRAIN_FILE, 'wb') )"
   ]
  },
  {
   "cell_type": "code",
   "execution_count": 5,
   "metadata": {
    "collapsed": true,
    "nbpresent": {
     "id": "d904c70b-1009-4a25-9860-d41862a858df"
    }
   },
   "outputs": [],
   "source": [
    "t_list, y_list, c_list, a_list, u_list = pickle.load( open(TRAIN_FILE, 'rb') )"
   ]
  },
  {
   "cell_type": "code",
   "execution_count": 55,
   "metadata": {
    "nbpresent": {
     "id": "27c46e45-7376-4aae-8b56-b02f42bac5ba"
    }
   },
   "outputs": [
    {
     "data": {
      "text/plain": [
       "array([ 0,  1,  2,  3,  4,  5,  6,  7,  8,  9, 10, 11, 12, 13, 14, 13, 15,\n",
       "       16, 17, 18, 18, 19, 20, 15, 21, 22, 21, 23, 24, 25, 23, 26, 27, 28,\n",
       "       29, 26, 30, 31, 32, 33, 31, 34, 35, 26, 36, 37])"
      ]
     },
     "execution_count": 55,
     "metadata": {},
     "output_type": "execute_result"
    }
   ],
   "source": [
    "y_list[0]"
   ]
  },
  {
   "cell_type": "code",
   "execution_count": 60,
   "metadata": {
    "nbpresent": {
     "id": "f824acfe-3afa-4c1a-b790-81109858da9b"
    }
   },
   "outputs": [
    {
     "data": {
      "text/plain": [
       "4756105    423143\n",
       "4145813    292737\n",
       "2355072    258470\n",
       "982926     243941\n",
       "3607361    238047\n",
       "4801426    167398\n",
       "2520377    158676\n",
       "1320293    143762\n",
       "2465336    132108\n",
       "3002561    130304\n",
       "2735466    113960\n",
       "2885642     90650\n",
       "4181361     88458\n",
       "149192      84554\n",
       "1879194     83174\n",
       "4217906     82439\n",
       "1080785     79865\n",
       "3738615     74191\n",
       "1464116     71885\n",
       "154040      70935\n",
       "4357323     64050\n",
       "2640118     63524\n",
       "570735      59062\n",
       "2096639     58570\n",
       "2520771     56238\n",
       "4170419     54548\n",
       "2920476     53819\n",
       "1299190     52137\n",
       "2939262     46860\n",
       "4643350     45606\n",
       "            ...  \n",
       "2667674         1\n",
       "4642962         1\n",
       "743465          1\n",
       "2165498         1\n",
       "2731517         1\n",
       "1676950         1\n",
       "3094632         1\n",
       "3137626         1\n",
       "2209420         1\n",
       "3533922         1\n",
       "2588445         1\n",
       "1833378         1\n",
       "3831440         1\n",
       "460515          1\n",
       "1352442         1\n",
       "5003604         1\n",
       "1140683         1\n",
       "1113144         1\n",
       "2306491         1\n",
       "132506          1\n",
       "386405          1\n",
       "4251754         1\n",
       "2019855         1\n",
       "479797          1\n",
       "5106813         1\n",
       "4256421         1\n",
       "802883          1\n",
       "3988134         1\n",
       "4648307         1\n",
       "3469361         1\n",
       "Name: categoryid, Length: 5870, dtype: int64"
      ]
     },
     "execution_count": 60,
     "metadata": {},
     "output_type": "execute_result"
    }
   ],
   "source": [
    "df.categoryid.value_counts(sort=True)"
   ]
  },
  {
   "cell_type": "code",
   "execution_count": 119,
   "metadata": {
    "collapsed": true
   },
   "outputs": [],
   "source": [
    "total = 0\n",
    "acc = 0\n",
    "for t, c in zip(t_list, c_list):\n",
    "    for i in range(1, t.shape[0]):\n",
    "        delta_t = t[i] - t[i-1]\n",
    "        if delta_t < 10 and c[i-1] != c[i]:\n",
    "            if c[i-1] in c[i:]:\n",
    "                acc += 1\n",
    "            total += 1\n",
    "            "
   ]
  },
  {
   "cell_type": "code",
   "execution_count": 120,
   "metadata": {},
   "outputs": [
    {
     "name": "stdout",
     "output_type": "stream",
     "text": [
      "0.617058807239888\n"
     ]
    }
   ],
   "source": [
    "print(acc/total)"
   ]
  },
  {
   "cell_type": "code",
   "execution_count": 88,
   "metadata": {
    "nbpresent": {
     "id": "4bd612dc-c142-4154-9e2f-2a257e54a524"
    }
   },
   "outputs": [
    {
     "name": "stdout",
     "output_type": "stream",
     "text": [
      "17663 1 0\n",
      "11152 2 1\n",
      "20608 3 2\n",
      "2653 4 3\n",
      "48796 5 4\n",
      "68531 6 5\n",
      "11998 7 6\n",
      "8261 8 7\n",
      "7739 9 8\n",
      "9357 10 9\n",
      "8053 11 10\n",
      "14333 12 11\n",
      "66171 13 12\n",
      "2799 14 13\n",
      "2089 13 14\n",
      "11391 15 13\n",
      "15200 16 15\n",
      "232 17 16\n",
      "13457 18 17\n",
      "25123 18 18 ------\n",
      "566 19 18\n",
      "1688 20 19\n",
      "27309 15 20\n",
      "35903 21 15\n",
      "9801 22 21\n",
      "19625 21 22\n",
      "6451 23 21\n",
      "30241 24 23\n",
      "3698 25 24\n",
      "4480 23 25\n",
      "11880 26 23\n",
      "22905 27 26\n",
      "65212 28 27\n",
      "494 29 28\n",
      "22803 26 29\n",
      "14811 30 26\n",
      "2490 31 30\n",
      "4797 32 31\n",
      "29418 33 32\n",
      "19775 31 33\n",
      "7499 34 31 ------\n",
      "921 35 34\n",
      "12550 26 35\n",
      "3509 36 26 ------\n",
      "4089 37 36 ------\n",
      "30997 39 38\n",
      "54 40 39\n",
      "22 39 40\n",
      "444 41 39\n",
      "7597 42 41\n",
      "42446 43 42\n",
      "35352 44 43\n",
      "49917 45 44\n",
      "4474 46 45\n",
      "6414 47 46\n",
      "182 48 47 ------\n",
      "520 49 48\n",
      "64 50 49 ------\n",
      "432 51 50\n",
      "534 52 51\n",
      "3216 53 52\n",
      "421 54 53\n",
      "287 53 54\n",
      "6033 55 53\n",
      "245484 56 55\n",
      "108274 57 56\n",
      "47 58 57 ------\n",
      "118 57 58 ------\n",
      "450 57 57 ------\n",
      "100 59 57\n",
      "463 57 59\n",
      "30 59 57\n",
      "367 39 59\n",
      "505 40 39\n",
      "96748 60 40\n",
      "18442 62 61\n",
      "95332 63 62\n",
      "336 64 63\n",
      "14 65 64\n",
      "44 66 65\n",
      "55662 67 66 ------\n",
      "67 68 67\n",
      "19 69 68\n",
      "29096 70 69 ------\n",
      "136112 71 70\n",
      "431 67 71\n",
      "34821 72 67\n",
      "51475 73 72\n",
      "7919 74 73\n",
      "909 75 74\n",
      "176 76 75 ------\n",
      "11011 77 76\n",
      "22441 78 77\n",
      "111 79 78\n",
      "52715 80 79\n",
      "546 81 80\n",
      "873 82 81\n",
      "10790 83 82\n",
      "17831 84 83\n",
      "77017 85 84\n",
      "134 86 85\n",
      "9605 87 86\n",
      "19 88 87 ------\n",
      "143 89 88\n",
      "306 90 89\n",
      "14 91 90\n",
      "64180 92 91\n",
      "11940 93 92\n",
      "37 95 94 ------\n",
      "334 96 95\n",
      "52 97 96 ------\n",
      "89223 98 97\n",
      "58 99 98\n",
      "443 100 99\n",
      "99 101 100 ------\n",
      "1319 102 101\n",
      "91 103 102\n",
      "45 104 103\n",
      "134 105 104\n",
      "30 106 105 ------\n",
      "144 107 106 ------\n",
      "121415 108 107\n",
      "37 109 108\n",
      "118 103 109\n",
      "235 110 103\n",
      "20 109 110\n",
      "77 111 109\n",
      "51 112 111\n",
      "58 113 112\n",
      "101 114 113\n",
      "72 115 114\n",
      "378 116 115\n",
      "95 117 116\n",
      "148 118 117\n",
      "85 119 118\n",
      "658 120 119\n",
      "125635 121 120\n",
      "55 106 121\n",
      "151 122 106\n",
      "36 123 122\n",
      "297 124 123\n",
      "399 119 124\n",
      "39 125 119\n",
      "1459 126 125\n",
      "169 127 126\n",
      "156 128 127 ------\n",
      "252 129 128 ------\n",
      "366 130 129\n",
      "365 131 130\n",
      "207 132 131\n",
      "41 133 132\n",
      "4488 134 133\n",
      "69 135 134\n",
      "6311 136 135\n",
      "94 137 136\n",
      "47665 138 137\n",
      "27 139 138\n",
      "74 140 139\n",
      "83 141 140\n",
      "66 142 141\n",
      "23 143 142\n",
      "117 144 143\n",
      "49 116 144\n",
      "8 145 116\n",
      "190 146 145\n",
      "145323 137 146\n",
      "83 147 137 ------\n",
      "58 148 147\n",
      "69 149 148\n",
      "147 150 149 ------\n",
      "572 151 150 ------\n",
      "90 153 152\n",
      "564 154 153\n",
      "305 155 154 ------\n",
      "4663 156 155\n",
      "6 157 156 ------\n",
      "87 158 157\n",
      "37 159 158 ------\n",
      "55 158 159 ------\n",
      "60 160 158\n",
      "47 161 160\n",
      "30408 162 161\n",
      "5051 163 162\n",
      "22744 164 163\n",
      "12 165 164\n",
      "20158 160 165\n",
      "3721 158 160\n",
      "779 166 158\n",
      "40 167 166\n",
      "50 168 167 ------\n",
      "66 169 168 ------\n",
      "118 170 169 ------\n",
      "39 171 170 ------\n",
      "31538 169 171 ------\n",
      "13592 172 169\n",
      "1064 173 172\n",
      "274 174 173\n",
      "162 175 174 ------\n",
      "73008 169 175 ------\n",
      "10 158 169 ------\n",
      "10 167 158 ------\n",
      "3882 176 167\n",
      "16812 173 176\n",
      "508 177 173\n",
      "26675 178 177\n",
      "14 174 178\n",
      "16 163 174\n",
      "4 179 163\n",
      "58441 180 179\n",
      "20 181 180\n",
      "78 182 181\n",
      "27966 183 182 ------\n",
      "1591 184 183\n",
      "66180 185 184\n",
      "19410 186 185\n",
      "523 169 186\n",
      "53 186 169\n",
      "10071 187 186\n",
      "62 188 187\n",
      "26848 189 188\n",
      "34607 190 189\n",
      "227 191 190\n",
      "58 192 191\n",
      "146 159 192 ------\n",
      "8 192 159 ------\n",
      "11 169 192 ------\n",
      "15931 193 169 ------\n",
      "236 194 193\n",
      "10138 159 194\n",
      "9 192 159 ------\n",
      "15 169 192 ------\n",
      "131 195 169\n",
      "131 196 195\n",
      "238 197 196\n",
      "17 198 197 ------\n",
      "32 199 198 ------\n",
      "28236 192 199 ------\n",
      "18 200 192\n",
      "7347 201 200\n",
      "17511 202 201 ------\n",
      "36 169 202 ------\n",
      "8 203 169 ------\n",
      "2341 204 203 ------\n",
      "51 205 204 ------\n",
      "7 206 205\n",
      "17696 207 206\n",
      "23 208 207\n",
      "88 209 208\n",
      "8522 210 209\n",
      "93 211 210\n",
      "50 212 211 ------\n",
      "91 213 212\n",
      "30 214 213 ------\n",
      "4 215 214\n",
      "152 216 215\n",
      "59 217 216 ------\n",
      "86 218 217 ------\n",
      "273 219 218 ------\n",
      "45 220 219 ------\n",
      "154 221 220\n",
      "59 222 221\n",
      "14 223 222\n",
      "74 224 223 ------\n",
      "37 225 224\n",
      "25092 226 225\n",
      "39 227 226\n",
      "112 228 227\n",
      "16 229 228\n",
      "48 230 229\n",
      "19810 217 230\n",
      "11 218 217 ------\n",
      "16 176 218\n",
      "17529 218 176\n",
      "11434 182 218\n",
      "5775 231 182\n",
      "43 232 231\n",
      "145 233 232\n",
      "75 234 233\n",
      "36039 173 234\n",
      "6192 159 173\n",
      "7 202 159 ------\n",
      "18 192 202 ------\n",
      "345 159 192 ------\n",
      "79 236 235\n",
      "128 237 236\n",
      "47 238 237\n",
      "13 235 238\n",
      "54 239 235\n",
      "108 240 239\n",
      "162 241 240 ------\n",
      "8 242 241 ------\n",
      "94 240 242 ------\n",
      "16 243 240\n",
      "20 244 243\n",
      "39 245 244\n",
      "4643 246 245\n",
      "11258 247 246\n",
      "114 248 247\n",
      "164 249 248 ------\n",
      "14 250 249 ------\n",
      "5 251 250 ------\n",
      "9 250 251 ------\n",
      "87 252 250\n",
      "14 253 252\n",
      "8 254 253\n",
      "96 255 254\n",
      "7 256 255\n",
      "41 257 256\n",
      "44 252 257\n",
      "433 258 252\n",
      "42 259 258\n",
      "19290 252 259\n",
      "139 249 252\n",
      "1089 260 249\n",
      "55020 261 260\n",
      "71 252 261\n",
      "372 255 252\n",
      "7 253 255 ------\n",
      "4149 262 253\n",
      "202 249 262\n",
      "8 263 249\n",
      "8 240 263\n",
      "13249 249 240\n",
      "39 240 249\n",
      "75 264 240\n",
      "243 254 264\n",
      "9 256 254\n",
      "181 252 256\n",
      "134 265 252\n",
      "150 259 265\n",
      "82451 266 259\n",
      "442 265 266\n",
      "396 267 265\n",
      "12 268 267\n",
      "13 269 268\n",
      "131 270 269\n",
      "81178 271 270\n",
      "95520 272 271\n",
      "223 273 272\n",
      "77936 274 273\n",
      "106691 275 274\n",
      "103 276 275\n",
      "30 275 276\n",
      "175 277 275 ------\n",
      "163 278 277\n",
      "327 279 278\n",
      "364 280 279 ------\n",
      "38 279 280 ------\n",
      "69448 281 279\n",
      "271 282 281\n",
      "2 281 282\n",
      "46 283 281\n",
      "70 284 283\n",
      "7 285 284 ------\n",
      "55 236 285\n",
      "128 279 236\n",
      "104 286 279 ------\n",
      "22 287 286\n",
      "12 288 287\n",
      "4 287 288\n",
      "19 289 287\n",
      "17 290 289\n",
      "50 291 290\n",
      "58609 292 291\n",
      "145 293 292\n",
      "42 247 293\n",
      "15399 294 247\n",
      "39 295 294\n",
      "7257 247 295 ------\n",
      "180 296 247 ------\n",
      "2 297 296\n",
      "110 247 297\n",
      "444362 299 298\n",
      "163 300 299\n",
      "3010 301 300\n",
      "73334 302 301\n",
      "9 303 302 ------\n",
      "24 304 303\n",
      "25 305 304 ------\n",
      "50 306 305 ------\n",
      "13 307 306 ------\n",
      "11 305 307 ------\n",
      "10195 308 305\n",
      "64212 301 308\n",
      "50 309 301\n",
      "56 310 309\n",
      "22 311 310\n",
      "24 301 311\n",
      "95614 312 301\n",
      "4771 313 312 ------\n",
      "15 314 313 ------\n",
      "20307 316 315\n",
      "127 317 316 ------\n",
      "67 318 317 ------\n",
      "44 317 318 ------\n",
      "57 316 317 ------\n",
      "86 319 316\n",
      "81 316 319\n",
      "1943 320 316\n",
      "59 321 320\n",
      "657 320 321\n",
      "27 319 320 ------\n",
      "109 320 319 ------\n",
      "33 316 320\n",
      "45900 320 316\n",
      "43148 322 320\n",
      "150 323 322\n",
      "275 324 323 ------\n",
      "290 325 324 ------\n",
      "282 323 325 ------\n",
      "74 326 323\n",
      "155 327 326\n",
      "53 328 327 ------\n",
      "50 329 328 ------\n",
      "23 330 329 ------\n",
      "92 323 330 ------\n",
      "93 325 323 ------\n",
      "16 331 325 ------\n",
      "4 326 331\n",
      "9 328 326\n",
      "20 324 328 ------\n",
      "11 332 324 ------\n",
      "26 323 332 ------\n",
      "25 333 323 ------\n",
      "241 323 333 ------\n",
      "225 334 323 ------\n",
      "17 335 334\n",
      "17 336 335\n",
      "207 322 336\n",
      "39367 323 322\n",
      "303708 337 323\n",
      "191 338 337\n",
      "42373 339 338\n",
      "1058 340 339 ------\n",
      "20 338 340\n",
      "272 341 338\n",
      "11 342 341\n",
      "20 343 342\n",
      "38 344 343\n",
      "149 345 344\n",
      "0.2409090909090909\n"
     ]
    }
   ],
   "source": [
    "total = 0\n",
    "acc = 0\n",
    "for y,t, c in zip(y_list, t_list, c_list):\n",
    "    for i in range(1, c.shape[0]):\n",
    "        if c[i-1] == c[i]: \n",
    "            acc += 1\n",
    "            print(t[i]-t[i-1], y[i], y[i-1], \"------\")\n",
    "        else:\n",
    "            print(t[i]-t[i-1], y[i], y[i-1])\n",
    "        total += 1\n",
    "    if acc>100: break\n",
    "print(acc / total)"
   ]
  },
  {
   "cell_type": "code",
   "execution_count": 62,
   "metadata": {
    "collapsed": true,
    "nbpresent": {
     "id": "a0c2e8b9-6244-4347-9906-0ed8f10579cc"
    }
   },
   "outputs": [],
   "source": [
    "numcate = df.categoryid.nunique()\n",
    "mat_all = np.zeros( (len(c_list), numcate) )\n",
    "idx = 0\n",
    "for c in c_list:\n",
    "    for ci in c:\n",
    "        mat_all[idx, ci ] += 1\n",
    "    mat_all[idx, :] /= c.shape[0]\n",
    "    \n",
    "    idx += 1"
   ]
  },
  {
   "cell_type": "code",
   "execution_count": 77,
   "metadata": {
    "collapsed": true,
    "nbpresent": {
     "id": "982caeee-be9b-4056-bd8d-5c58680836a4"
    }
   },
   "outputs": [],
   "source": [
    "from scipy.sparse.linalg import svds\n",
    "u, s, vh = svds(mat_all[0:-100,], k=100)"
   ]
  },
  {
   "cell_type": "code",
   "execution_count": 78,
   "metadata": {
    "collapsed": true,
    "nbpresent": {
     "id": "26b01bb6-d72e-4a99-8849-c2f91dbc7de0"
    }
   },
   "outputs": [],
   "source": [
    "pred = np.argmax( np.dot(u, vh), axis = 1 )"
   ]
  },
  {
   "cell_type": "code",
   "execution_count": 76,
   "metadata": {
    "nbpresent": {
     "id": "9405664b-e065-43fb-af4f-46876501417b"
    }
   },
   "outputs": [
    {
     "name": "stdout",
     "output_type": "stream",
     "text": [
      "0.17810455401173816\n"
     ]
    }
   ],
   "source": [
    "idx = 0\n",
    "total = 0\n",
    "acc = 0\n",
    "for c in c_list:\n",
    "    p = pred[idx]\n",
    "    for ci in c:\n",
    "        if p == ci: acc += 1\n",
    "        total += 1\n",
    "    \n",
    "    idx += 1\n",
    "print(acc / total)"
   ]
  },
  {
   "cell_type": "code",
   "execution_count": 80,
   "metadata": {
    "nbpresent": {
     "id": "61d17b46-29e3-4506-b14d-37b4ce91edd8"
    }
   },
   "outputs": [
    {
     "name": "stdout",
     "output_type": "stream",
     "text": [
      "0.19720382634289918\n"
     ]
    }
   ],
   "source": [
    "total = 0\n",
    "acc = 0\n",
    "for idx in range(-100, 0):\n",
    "    scores =  mat_all[:-100, ] @ mat_all[idx].T\n",
    "    top = np.argmax(scores)\n",
    "    p = pred[top]\n",
    "    for ci in c_list[idx]:\n",
    "        if p == ci: acc += 1\n",
    "        total += 1   \n",
    "print(acc / total)"
   ]
  },
  {
   "cell_type": "code",
   "execution_count": 50,
   "metadata": {
    "nbpresent": {
     "id": "366c9a83-6ad7-4270-b328-a68c2d782cf3"
    }
   },
   "outputs": [
    {
     "data": {
      "text/plain": [
       "<matplotlib.colorbar.Colorbar at 0x7f3bb78ad080>"
      ]
     },
     "execution_count": 50,
     "metadata": {},
     "output_type": "execute_result"
    },
    {
     "data": {
      "image/png": "[encoded data removed]",
      "text/plain": [
       "<Figure size 288x288 with 2 Axes>"
      ]
     },
     "metadata": {
      "needs_background": "light"
     },
     "output_type": "display_data"
    }
   ],
   "source": [
    "plt.matshow(mat_all, cmap='hot')\n",
    "plt.colorbar()\n"
   ]
  },
  {
   "cell_type": "code",
   "execution_count": 135,
   "metadata": {
    "collapsed": true,
    "nbpresent": {
     "id": "834dd62f-1826-48d5-9698-9da642ce3949"
    }
   },
   "outputs": [],
   "source": [
    "t_hist = []\n",
    "for ti in t_list:\n",
    "    for i in range(1, ti.shape[0]):\n",
    "#         diff = ti[i]-ti[i-1]+1\n",
    "#         t_hist.append( math.log( diff) )\n",
    "        for j in range(i-1):\n",
    "            diff = ti[i]-ti[j]+1\n",
    "            t_hist.append( math.log( diff) )"
   ]
  },
  {
   "cell_type": "code",
   "execution_count": 136,
   "metadata": {
    "nbpresent": {
     "id": "d857ff1e-93e9-462a-b5b0-a0d283540a0f"
    }
   },
   "outputs": [
    {
     "data": {
      "text/plain": [
       "(array([4.4896000e+04, 2.3350480e+06, 1.8868050e+07, 2.7986101e+07,\n",
       "        4.8570577e+07, 2.5512396e+08, 5.1823088e+07, 3.1830000e+03,\n",
       "        9.8400000e+02, 3.2680000e+03]),\n",
       " array([ 0.        ,  2.18544156,  4.37088312,  6.55632468,  8.74176625,\n",
       "        10.92720781, 13.11264937, 15.29809093, 17.48353249, 19.66897405,\n",
       "        21.85441562]),\n",
       " <a list of 10 Patch objects>)"
      ]
     },
     "execution_count": 136,
     "metadata": {},
     "output_type": "execute_result"
    },
    {
     "data": {
      "image/png": "[encoded data removed]",
      "text/plain": [
       "<Figure size 432x288 with 1 Axes>"
      ]
     },
     "metadata": {
      "needs_background": "light"
     },
     "output_type": "display_data"
    }
   ],
   "source": [
    "plt.hist(t_hist)"
   ]
  },
  {
   "cell_type": "code",
   "execution_count": 11,
   "metadata": {
    "collapsed": true,
    "nbpresent": {
     "id": "78b664bf-552d-4e4c-8bf2-5f3596498edb"
    }
   },
   "outputs": [],
   "source": [
    "t_hist2 = []\n",
    "for ti in t_list:\n",
    "    for i in range(1, ti.shape[0]):\n",
    "        diff = ti[i]-ti[i-1]+1\n",
    "        t_hist2.append( diff )"
   ]
  },
  {
   "cell_type": "code",
   "execution_count": 12,
   "metadata": {
    "nbpresent": {
     "id": "7f5f741c-776e-41b5-acd4-140e3759044e"
    }
   },
   "outputs": [
    {
     "data": {
      "image/png": "[encoded data removed]",
      "text/plain": [
       "<Figure size 1440x432 with 1 Axes>"
      ]
     },
     "metadata": {
      "needs_background": "light"
     },
     "output_type": "display_data"
    }
   ],
   "source": [
    "plt.rcParams[\"figure.figsize\"] = (20,6)\n",
    "_, bins, _ = plt.hist(np.log(t_hist2), bins=40, density=True)\n",
    "plt.xticks(ticks=np.arange(40), labels= ['%.2fmins' % b for b in np.exp(bins)/60 ], rotation=40)\n",
    "plt.show()"
   ]
  },
  {
   "cell_type": "code",
   "execution_count": 8,
   "metadata": {
    "collapsed": true,
    "nbpresent": {
     "id": "ee33e1f8-99bc-4eb0-8ea0-02401b84fa3d"
    }
   },
   "outputs": [],
   "source": [
    "t_hist3 = []\n",
    "for c, t in zip(c_list, t_list):\n",
    "    last_pos = {}\n",
    "    for i in range(1, c.shape[0]):\n",
    "        if c[i] in last_pos and c[i-1] != c[i]:\n",
    "            diff = t[i]-last_pos[c[i]] + 1\n",
    "            t_hist3.append( (diff) )\n",
    "\n",
    "        last_pos[c[i]] = t[i] "
   ]
  },
  {
   "cell_type": "code",
   "execution_count": 10,
   "metadata": {
    "nbpresent": {
     "id": "99fa6d68-0665-4d5b-9ce8-20374e92517b"
    }
   },
   "outputs": [
    {
     "data": {
      "text/plain": [
       "array([1511544070, 1511561733, 1511572885, 1511593493, 1511596146,\n",
       "       1511644942, 1511713473, 1511725471, 1511733732, 1511741471,\n",
       "       1511750828, 1511758881, 1511773214, 1511839385, 1511842184,\n",
       "       1511844273, 1511855664, 1511870864, 1511871096, 1511884553,\n",
       "       1511909676, 1511910242, 1511911930, 1511939239, 1511975142,\n",
       "       1511984943, 1512004568, 1512011019, 1512041260, 1512044958,\n",
       "       1512049438, 1512061318, 1512084223, 1512149435, 1512149929,\n",
       "       1512172732, 1512187543, 1512190033, 1512194830, 1512224248,\n",
       "       1512244023, 1512251522, 1512252443, 1512264993, 1512268502,\n",
       "       1512272591])"
      ]
     },
     "execution_count": 10,
     "metadata": {},
     "output_type": "execute_result"
    }
   ],
   "source": [
    "t_list[0]"
   ]
  },
  {
   "cell_type": "code",
   "execution_count": 9,
   "metadata": {
    "nbpresent": {
     "id": "340de919-9689-4be9-b6ed-40a321f90a2a"
    }
   },
   "outputs": [
    {
     "data": {
      "image/png": "[encoded data removed]",
      "text/plain": [
       "<Figure size 1440x432 with 1 Axes>"
      ]
     },
     "metadata": {
      "needs_background": "light"
     },
     "output_type": "display_data"
    }
   ],
   "source": [
    "plt.rcParams[\"figure.figsize\"] = (20,6)\n",
    "_, bins, _ = plt.hist(np.log(t_hist3), bins=40, density=True)\n",
    "plt.xticks(ticks=np.arange(40), labels= ['%.2fmins' % b for b in np.exp(bins)/60 ], rotation=40)\n",
    "plt.show()"
   ]
  },
  {
   "cell_type": "code",
   "execution_count": 85,
   "metadata": {
    "collapsed": true,
    "nbpresent": {
     "id": "1da905b9-8388-415d-8228-af18c7907d7d"
    }
   },
   "outputs": [],
   "source": [
    "t_hist = []\n",
    "target = 13 #7\n",
    "for c, t in zip(c_list, t_list):\n",
    "    last_pos = -1\n",
    "    for i in range(2, c.shape[0]):\n",
    "        if c[i] == target and c[i-1] != c[i] and c[i-2] != c[i]:\n",
    "            if last_pos == -1:\n",
    "                last_pos = t[i]\n",
    "            else:\n",
    "                diff = t[i]-last_pos + 1\n",
    "#                 t_hist.append( (diff) )\n",
    "                t_hist.append( (diff) )\n",
    "        "
   ]
  },
  {
   "cell_type": "code",
   "execution_count": 84,
   "metadata": {
    "nbpresent": {
     "id": "1fac6224-f20a-4beb-a406-cdfd57fdbd54"
    }
   },
   "outputs": [
    {
     "data": {
      "image/png": "[encoded data removed]",
      "text/plain": [
       "<Figure size 1440x432 with 1 Axes>"
      ]
     },
     "metadata": {
      "needs_background": "light"
     },
     "output_type": "display_data"
    }
   ],
   "source": [
    "plt.rcParams[\"figure.figsize\"] = (20,6)\n",
    "_, bins, _ = plt.hist(np.log(t_hist), bins=20, density=True)\n",
    "plt.xticks(ticks=np.arange(20), labels= ['%.2fmins' % b for b in np.exp(bins)/60 ], rotation=40)\n",
    "plt.show()"
   ]
  },
  {
   "cell_type": "code",
   "execution_count": 87,
   "metadata": {
    "nbpresent": {
     "id": "919da43d-aa4c-44c6-83db-9bb28294bbe0"
    }
   },
   "outputs": [
    {
     "data": {
      "image/png": "[encoded data removed]",
      "text/plain": [
       "<Figure size 1440x432 with 1 Axes>"
      ]
     },
     "metadata": {
      "needs_background": "light"
     },
     "output_type": "display_data"
    }
   ],
   "source": [
    "plt.rcParams[\"figure.figsize\"] = (20,6)\n",
    "_, bins, _ = plt.hist(np.log(t_hist), bins=20, density=True)\n",
    "plt.xticks(ticks=np.arange(20), labels= ['%.2fmins' % b for b in np.exp(bins)/60 ], rotation=40)\n",
    "plt.show()"
   ]
  },
  {
   "cell_type": "code",
   "execution_count": 19,
   "metadata": {
    "collapsed": true,
    "nbpresent": {
     "id": "a6abc3c2-d898-4bdc-a589-e81cc92ea69d"
    }
   },
   "outputs": [],
   "source": [
    "# general preiod length\n",
    "period_hist = []\n",
    "for c, t in zip(c_list, t_list):\n",
    "    last_pos = {}\n",
    "    for i in range(1, c.shape[0]):\n",
    "        if c[i] not in last_pos:\n",
    "            last_pos[c[i]] = 0\n",
    "        if c[i-1] != c[i]:\n",
    "            last_pos[c[i]] += 1\n",
    "        \n",
    "    for k, v in last_pos.items():\n",
    "        if v > 1:\n",
    "            period_hist.append( (v) )"
   ]
  },
  {
   "cell_type": "code",
   "execution_count": 20,
   "metadata": {
    "nbpresent": {
     "id": "c2ff3a61-5084-4bdb-b3df-2c59aa844459"
    }
   },
   "outputs": [
    {
     "data": {
      "text/plain": [
       "(array([5.53981e+05, 9.99490e+04, 6.16330e+04, 4.06340e+04, 2.78430e+04,\n",
       "        3.39340e+04, 1.03470e+04, 7.89300e+03, 6.06700e+03, 4.53600e+03,\n",
       "        6.30100e+03, 2.17800e+03, 1.71700e+03, 1.31000e+03, 1.02500e+03,\n",
       "        1.45500e+03, 5.08000e+02, 4.12000e+02, 3.12000e+02, 2.27000e+02,\n",
       "        3.37000e+02, 1.00000e+02, 9.00000e+01, 7.00000e+01, 6.30000e+01,\n",
       "        9.20000e+01, 2.40000e+01, 2.10000e+01, 1.00000e+01, 1.20000e+01,\n",
       "        1.30000e+01, 5.00000e+00, 1.00000e+00, 1.00000e+00, 0.00000e+00,\n",
       "        0.00000e+00, 0.00000e+00, 0.00000e+00, 0.00000e+00, 1.00000e+00]),\n",
       " array([ 2. ,  3.2,  4.4,  5.6,  6.8,  8. ,  9.2, 10.4, 11.6, 12.8, 14. ,\n",
       "        15.2, 16.4, 17.6, 18.8, 20. , 21.2, 22.4, 23.6, 24.8, 26. , 27.2,\n",
       "        28.4, 29.6, 30.8, 32. , 33.2, 34.4, 35.6, 36.8, 38. , 39.2, 40.4,\n",
       "        41.6, 42.8, 44. , 45.2, 46.4, 47.6, 48.8, 50. ]),\n",
       " <a list of 40 Patch objects>)"
      ]
     },
     "execution_count": 20,
     "metadata": {},
     "output_type": "execute_result"
    },
    {
     "data": {
      "image/png": "[encoded data removed]",
      "text/plain": [
       "<Figure size 1440x432 with 1 Axes>"
      ]
     },
     "metadata": {
      "needs_background": "light"
     },
     "output_type": "display_data"
    }
   ],
   "source": [
    "plt.hist(period_hist, bins=40)"
   ]
  },
  {
   "cell_type": "code",
   "execution_count": 97,
   "metadata": {
    "collapsed": true,
    "nbpresent": {
     "id": "964202d0-c845-4504-bfa6-6c408220b639"
    }
   },
   "outputs": [],
   "source": [
    "# category specific period length\n",
    "period_map = {}\n",
    "for c, t in zip(c_list, t_list):\n",
    "    last_pos = {}\n",
    "    for i in range(1, c.shape[0]):\n",
    "        if c[i] not in last_pos:\n",
    "            last_pos[c[i]] = 1\n",
    "        if c[i-1] != c[i]:\n",
    "            last_pos[c[i]] += 1\n",
    "        \n",
    "    for k, v in last_pos.items():\n",
    "#         if v > 1:\n",
    "        if k not in period_map: period_map[k] = []\n",
    "        period_map[k].append( v )\n",
    "            \n"
   ]
  },
  {
   "cell_type": "code",
   "execution_count": null,
   "metadata": {
    "collapsed": true
   },
   "outputs": [],
   "source": []
  },
  {
   "cell_type": "code",
   "execution_count": 104,
   "metadata": {
    "collapsed": true,
    "nbpresent": {
     "id": "51e842eb-bea1-40c5-8549-547dab4ef383"
    }
   },
   "outputs": [],
   "source": [
    "# print(period_map)\n",
    "period_hist = []\n",
    "period_std = []\n",
    "for k,v in period_map.items():\n",
    "#     if len(v) == 1: continue\n",
    "    period_hist.append( np.mean(v) )\n",
    "    period_std.append( np.std(v) )"
   ]
  },
  {
   "cell_type": "code",
   "execution_count": 112,
   "metadata": {
    "nbpresent": {
     "id": "e739873f-2767-4b51-bc70-d370b055f52f"
    }
   },
   "outputs": [
    {
     "data": {
      "image/png": "[encoded data removed]",
      "text/plain": [
       "<Figure size 1440x432 with 1 Axes>"
      ]
     },
     "metadata": {
      "needs_background": "light"
     },
     "output_type": "display_data"
    },
    {
     "data": {
      "image/png": "[encoded data removed]",
      "text/plain": [
       "<Figure size 1440x432 with 1 Axes>"
      ]
     },
     "metadata": {
      "needs_background": "light"
     },
     "output_type": "display_data"
    }
   ],
   "source": [
    "plt.hist(period_hist, bins=np.arange(0, 20, 1), density=True)\n",
    "plt.title('histogram on the average of period length of category')\n",
    "plt.show()\n",
    "plt.hist(period_std, bins=np.arange(0, 10, 1), density=True)\n",
    "plt.title('histogram on the std of period length of category')\n",
    "plt.show()"
   ]
  },
  {
   "cell_type": "code",
   "execution_count": 54,
   "metadata": {
    "nbpresent": {
     "id": "3e63e3b6-e394-4164-9073-0d3eef1a9eaa"
    },
    "scrolled": false
   },
   "outputs": [
    {
     "data": {
      "image/png": "[encoded data removed]",
      "text/plain": [
       "<Figure size 1440x432 with 1 Axes>"
      ]
     },
     "metadata": {
      "needs_background": "light"
     },
     "output_type": "display_data"
    },
    {
     "data": {
      "image/png": "[encoded data removed]",
      "text/plain": [
       "<Figure size 1440x432 with 1 Axes>"
      ]
     },
     "metadata": {
      "needs_background": "light"
     },
     "output_type": "display_data"
    },
    {
     "data": {
      "image/png": "[encoded data removed]",
      "text/plain": [
       "<Figure size 1440x432 with 1 Axes>"
      ]
     },
     "metadata": {
      "needs_background": "light"
     },
     "output_type": "display_data"
    },
    {
     "data": {
      "image/png": "[encoded data removed]",
      "text/plain": [
       "<Figure size 1440x432 with 1 Axes>"
      ]
     },
     "metadata": {
      "needs_background": "light"
     },
     "output_type": "display_data"
    },
    {
     "data": {
      "image/png": "[encoded data removed]",
      "text/plain": [
       "<Figure size 1440x432 with 1 Axes>"
      ]
     },
     "metadata": {
      "needs_background": "light"
     },
     "output_type": "display_data"
    },
    {
     "data": {
      "image/png": "[encoded data removed]",
      "text/plain": [
       "<Figure size 1440x432 with 1 Axes>"
      ]
     },
     "metadata": {
      "needs_background": "light"
     },
     "output_type": "display_data"
    }
   ],
   "source": [
    "# target = 13 #7\n",
    "cnt = 0\n",
    "for c, t, a in zip(c_list, t_list, a_list):\n",
    "    last_pos = {}\n",
    "    max_len = 0\n",
    "    for i in range(1, c.shape[0]):\n",
    "        if c[i] not in last_pos:\n",
    "            last_pos[c[i]] = []       \n",
    "        if c[i-1] != c[i] or True:\n",
    "#         if t[i] - t[i-1] > 1000 :\n",
    "            last_pos[c[i]].append( (t[i], a[i]) )\n",
    "            max_len = max(max_len, len(last_pos[c[i]]))\n",
    "            \n",
    "            \n",
    "    if True or c.shape[0] > 30 or max_len > 5:\n",
    "        for k, v in last_pos.items():\n",
    "            y =  [k for i in range(len(v))]\n",
    "            x = [i for i, _ in v]\n",
    "            if len(v) == 1: \n",
    "                plt.scatter(x, y )\n",
    "            else:\n",
    "                plt.plot(x, y, 'x:' )\n",
    "            for x, txt in v:\n",
    "                if txt != 0:\n",
    "                    plt.annotate( str(txt), (x, k))\n",
    "        st = t[1]\n",
    "        et = t[-1]\n",
    "        timerange = np.arange(st, et, (et-st) / 20 )\n",
    "        plt.xticks(ticks=timerange, \\\n",
    "                   labels= [datetime.utcfromtimestamp(b).strftime('%m/%d') for b in timerange ], rotation=40)\n",
    "        plt.show()\n",
    "        cnt += 1\n",
    "    if cnt > 5: break\n"
   ]
  },
  {
   "cell_type": "code",
   "execution_count": null,
   "metadata": {
    "collapsed": true,
    "nbpresent": {
     "id": "81404c03-c4ae-4712-bafa-f5fc63aa0e23"
    }
   },
   "outputs": [],
   "source": [
    "t_switch = []\n",
    "t_non_switch = []\n",
    "# c_switch = 0\n",
    "# s_switch = 0\n",
    "# cs_switch = 0\n",
    "# total = 0\n",
    "# for y_list, t_list in zip(y_list_test, t_list_test):\n",
    "for y_list, t_list in zip(c_list, t_list):\n",
    "     for idx in range(1, len(y_list)):\n",
    "        item_id = y_list[idx]\n",
    "        last_item_id = y_list[idx-1]\n",
    "#         if item_id not in discipline_map or last_item_id not in discipline_map: \n",
    "#             error += 1\n",
    "#             continue\n",
    "        \n",
    "        #discipline_map, careerlevel_map, industry_map\n",
    "        \n",
    "#         last_col = employment_map[last_item_id]\n",
    "#         col = employment_map[item_id]\n",
    "#         delta_t = t_list[idx] - t_list[idx-1]\n",
    "#         if col != last_col:\n",
    "#             c_switch += 1\n",
    "#         if delta_t > 30*60:\n",
    "#             s_switch += 1\n",
    "#         if col != last_col and delta_t > 30*60:\n",
    "#             cs_switch += 1\n",
    "#         total += 1"
   ]
  },
  {
   "cell_type": "code",
   "execution_count": null,
   "metadata": {
    "collapsed": true,
    "nbpresent": {
     "id": "d6fdd136-70f0-426c-b7b3-342cf8073597"
    },
    "scrolled": false
   },
   "outputs": [],
   "source": [
    "# %%time\n",
    "\n",
    "t_list_train = []\n",
    "y_list_train = []\n",
    "u_list_train = []\n",
    "t_list_test = []\n",
    "y_list_test = []\n",
    "u_list_test = []\n",
    "\n",
    "cnt = 0\n",
    "# for index, row in df.iterrows():\n",
    "# for row in df.itertuples():\n",
    "user = 1\n",
    "minti = 1511544070\n",
    "# for u,t,y in zip(df['userid'], df['timestamp'], df['itemid']):\n",
    "#     if cnt == 1000: break\n",
    "#     cnt += 1\n",
    "#     user_t = []\n",
    "#     user_y = []\n",
    "#     length = 0\n",
    "# #     print(u,t,y)\n",
    "#     if user != u:\n",
    "#         e = int(length*0.9)\n",
    "# #         print(e)\n",
    "        \n",
    "#         t_list = np.asarray([(ti - minti + 1) for ti in user_t])\n",
    "#         t_list_train.append(t_list[:e])\n",
    "#         t_list_test.append(t_list[e:])\n",
    "\n",
    "#         y_list = np.asarray(user_y)\n",
    "#         y_list_train.append(y_list[:e])\n",
    "#         y_list_test.append(y_list[e:])\n",
    "\n",
    "#         u_list_train.append(user)\n",
    "#         u_list_test.append(user)        \n",
    "#         user = u\n",
    "#         minti = t\n",
    "#         user_t = [t]\n",
    "#         user_y = [y]\n",
    "#         length = 1\n",
    "#     else:\n",
    "#         user_t.append(t)\n",
    "#         user_y.append(y)\n",
    "#         length += 1\n",
    "        \n",
    "\n",
    "for user in df.userid.unique():\n",
    "#     if cnt == 10: break\n",
    "#     cnt += 1\n",
    "    user_seq = df.loc[df.userid==user]\n",
    "    user_t = user_seq['timestamp'].values\n",
    "    user_y = user_seq['itemid'].values\n",
    "\n",
    "    e = int(user_t.shape[0] * 0.9)\n",
    "    minti = min(user_t)\n",
    "    t_list = np.asarray([(ti - minti + 1) for ti in user_t])\n",
    "    t_list_train.append(t_list[:e])\n",
    "    t_list_test.append(t_list[e:])\n",
    "\n",
    "    y_list = np.asarray(user_y)\n",
    "    y_list_train.append(y_list[:e])\n",
    "    y_list_test.append(y_list[e:])\n",
    "    \n",
    "    u_list_train.append(user)\n",
    "    u_list_test.append(user)\n",
    "#     break\n",
    "    \n"
   ]
  },
  {
   "cell_type": "code",
   "execution_count": null,
   "metadata": {
    "collapsed": true,
    "nbpresent": {
     "id": "2bb1a146-8e00-41f2-95c6-bec6e7141529"
    }
   },
   "outputs": [],
   "source": [
    "pickle.dump((t_list_train, y_list_train, u_list_train), open(TRAIN_FILE, 'wb') )\n",
    "pickle.dump((t_list_test, y_list_test, u_list_test), open(TEST_FILE, 'wb') )\n",
    "# pickle.dump((item_map, total_items, u2idx), open(MISC_FILE, 'wb') )"
   ]
  },
  {
   "cell_type": "code",
   "execution_count": null,
   "metadata": {
    "collapsed": true,
    "nbpresent": {
     "id": "aa416d31-578c-4742-a03e-eb2cacdc2777"
    }
   },
   "outputs": [],
   "source": [
    "print(y_list_train)\n",
    "print(y_list_test)\n",
    "print(t_list_train)\n",
    "print(t_list_test)"
   ]
  },
  {
   "cell_type": "code",
   "execution_count": null,
   "metadata": {
    "collapsed": true
   },
   "outputs": [],
   "source": []
  }
 ],
 "metadata": {
  "kernelspec": {
   "display_name": "Python 3",
   "language": "python",
   "name": "python3"
  },
  "language_info": {
   "codemirror_mode": {
    "name": "ipython",
    "version": 3
   },
   "file_extension": ".py",
   "mimetype": "text/x-python",
   "name": "python",
   "nbconvert_exporter": "python",
   "pygments_lexer": "ipython3",
   "version": "3.6.7"
  }
 },
 "nbformat": 4,
 "nbformat_minor": 2
}
