{
 "cells": [
  {
   "cell_type": "code",
   "execution_count": 1,
   "metadata": {
    "collapsed": true
   },
   "outputs": [],
   "source": [
    "import numpy as np\n",
    "import pandas as pd\n",
    "import pickle\n",
    "import matplotlib.pyplot as plt\n",
    "import matplotlib"
   ]
  },
  {
   "cell_type": "code",
   "execution_count": 12,
   "metadata": {
    "collapsed": true
   },
   "outputs": [],
   "source": [
    "df = pd.read_csv('./interactions.csv', header=0, sep='\\t')"
   ]
  },
  {
   "cell_type": "code",
   "execution_count": 13,
   "metadata": {},
   "outputs": [
    {
     "data": {
      "text/html": [
       "<div>\n",
       "<style scoped>\n",
       "    .dataframe tbody tr th:only-of-type {\n",
       "        vertical-align: middle;\n",
       "    }\n",
       "\n",
       "    .dataframe tbody tr th {\n",
       "        vertical-align: top;\n",
       "    }\n",
       "\n",
       "    .dataframe thead th {\n",
       "        text-align: right;\n",
       "    }\n",
       "</style>\n",
       "<table border=\"1\" class=\"dataframe\">\n",
       "  <thead>\n",
       "    <tr style=\"text-align: right;\">\n",
       "      <th></th>\n",
       "      <th>user_id</th>\n",
       "      <th>item_id</th>\n",
       "      <th>interaction_type</th>\n",
       "      <th>created_at</th>\n",
       "    </tr>\n",
       "  </thead>\n",
       "  <tbody>\n",
       "    <tr>\n",
       "      <th>0</th>\n",
       "      <td>1974005</td>\n",
       "      <td>2668706</td>\n",
       "      <td>1</td>\n",
       "      <td>1444154047</td>\n",
       "    </tr>\n",
       "    <tr>\n",
       "      <th>1</th>\n",
       "      <td>2690450</td>\n",
       "      <td>405777</td>\n",
       "      <td>1</td>\n",
       "      <td>1445338496</td>\n",
       "    </tr>\n",
       "    <tr>\n",
       "      <th>2</th>\n",
       "      <td>2690450</td>\n",
       "      <td>1180447</td>\n",
       "      <td>1</td>\n",
       "      <td>1444806365</td>\n",
       "    </tr>\n",
       "    <tr>\n",
       "      <th>3</th>\n",
       "      <td>2690450</td>\n",
       "      <td>136219</td>\n",
       "      <td>1</td>\n",
       "      <td>1444894128</td>\n",
       "    </tr>\n",
       "    <tr>\n",
       "      <th>4</th>\n",
       "      <td>2690450</td>\n",
       "      <td>1981683</td>\n",
       "      <td>1</td>\n",
       "      <td>1444894156</td>\n",
       "    </tr>\n",
       "  </tbody>\n",
       "</table>\n",
       "</div>"
      ],
      "text/plain": [
       "   user_id  item_id  interaction_type  created_at\n",
       "0  1974005  2668706                 1  1444154047\n",
       "1  2690450   405777                 1  1445338496\n",
       "2  2690450  1180447                 1  1444806365\n",
       "3  2690450   136219                 1  1444894128\n",
       "4  2690450  1981683                 1  1444894156"
      ]
     },
     "execution_count": 13,
     "metadata": {},
     "output_type": "execute_result"
    }
   ],
   "source": [
    "df.head()"
   ]
  },
  {
   "cell_type": "code",
   "execution_count": 14,
   "metadata": {
    "collapsed": true
   },
   "outputs": [],
   "source": [
    "df.sort_values(by=['user_id', 'created_at'], ascending=True, inplace=True)"
   ]
  },
  {
   "cell_type": "code",
   "execution_count": 15,
   "metadata": {},
   "outputs": [
    {
     "data": {
      "text/plain": [
       "8826678"
      ]
     },
     "execution_count": 15,
     "metadata": {},
     "output_type": "execute_result"
    }
   ],
   "source": [
    "len(df)"
   ]
  },
  {
   "cell_type": "code",
   "execution_count": 16,
   "metadata": {},
   "outputs": [
    {
     "data": {
      "text/html": [
       "<div>\n",
       "<style scoped>\n",
       "    .dataframe tbody tr th:only-of-type {\n",
       "        vertical-align: middle;\n",
       "    }\n",
       "\n",
       "    .dataframe tbody tr th {\n",
       "        vertical-align: top;\n",
       "    }\n",
       "\n",
       "    .dataframe thead th {\n",
       "        text-align: right;\n",
       "    }\n",
       "</style>\n",
       "<table border=\"1\" class=\"dataframe\">\n",
       "  <thead>\n",
       "    <tr style=\"text-align: right;\">\n",
       "      <th></th>\n",
       "      <th>user_id</th>\n",
       "      <th>item_id</th>\n",
       "      <th>interaction_type</th>\n",
       "      <th>created_at</th>\n",
       "    </tr>\n",
       "  </thead>\n",
       "  <tbody>\n",
       "    <tr>\n",
       "      <th>4350402</th>\n",
       "      <td>7</td>\n",
       "      <td>1006839</td>\n",
       "      <td>1</td>\n",
       "      <td>1440965193</td>\n",
       "    </tr>\n",
       "    <tr>\n",
       "      <th>4038426</th>\n",
       "      <td>9</td>\n",
       "      <td>1053485</td>\n",
       "      <td>1</td>\n",
       "      <td>1444899932</td>\n",
       "    </tr>\n",
       "    <tr>\n",
       "      <th>4038424</th>\n",
       "      <td>9</td>\n",
       "      <td>944146</td>\n",
       "      <td>1</td>\n",
       "      <td>1444901029</td>\n",
       "    </tr>\n",
       "    <tr>\n",
       "      <th>4038423</th>\n",
       "      <td>9</td>\n",
       "      <td>944146</td>\n",
       "      <td>3</td>\n",
       "      <td>1444921016</td>\n",
       "    </tr>\n",
       "    <tr>\n",
       "      <th>4038425</th>\n",
       "      <td>9</td>\n",
       "      <td>944146</td>\n",
       "      <td>1</td>\n",
       "      <td>1444921021</td>\n",
       "    </tr>\n",
       "  </tbody>\n",
       "</table>\n",
       "</div>"
      ],
      "text/plain": [
       "         user_id  item_id  interaction_type  created_at\n",
       "4350402        7  1006839                 1  1440965193\n",
       "4038426        9  1053485                 1  1444899932\n",
       "4038424        9   944146                 1  1444901029\n",
       "4038423        9   944146                 3  1444921016\n",
       "4038425        9   944146                 1  1444921021"
      ]
     },
     "execution_count": 16,
     "metadata": {},
     "output_type": "execute_result"
    }
   ],
   "source": [
    "df.head()"
   ]
  },
  {
   "cell_type": "code",
   "execution_count": 17,
   "metadata": {
    "collapsed": true
   },
   "outputs": [],
   "source": [
    "duplicate_idx_raw = df.duplicated(subset=['user_id', 'item_id',  'interaction_type'], keep=False)\n",
    "duplicate_idx_raw = list(duplicate_idx_raw[duplicate_idx_raw].index)\n",
    "duplicate_idx_raw.sort()"
   ]
  },
  {
   "cell_type": "code",
   "execution_count": 19,
   "metadata": {},
   "outputs": [
    {
     "data": {
      "text/plain": [
       "(8826674, 2239898)"
      ]
     },
     "execution_count": 19,
     "metadata": {},
     "output_type": "execute_result"
    }
   ],
   "source": [
    "duplicate_idx_raw[-1], len(duplicate_idx_raw)"
   ]
  },
  {
   "cell_type": "code",
   "execution_count": 20,
   "metadata": {
    "collapsed": true
   },
   "outputs": [],
   "source": [
    "duplicate_idx = set()\n",
    "for i in range(1, len(duplicate_idx_raw)):\n",
    "    cur = df.iloc[duplicate_idx_raw[i]] \n",
    "    last = df.iloc[duplicate_idx_raw[i-1]] \n",
    "        \n",
    "#     if cur.user_id == last.user_id and cur.item_id == last.item_id:\n",
    "#         if cur.interaction_type - last.interaction_type < 10:\n",
    "    if cur.user_id == last.user_id and cur.item_id == last.item_id and cur.interaction_type == last.interaction_type:\n",
    "        if cur.created_at - last.created_at < 10:\n",
    "            duplicate_idx.add(duplicate_idx_raw[i])\n",
    "            duplicate_idx.add(duplicate_idx_raw[i-1])\n"
   ]
  },
  {
   "cell_type": "code",
   "execution_count": 21,
   "metadata": {},
   "outputs": [
    {
     "name": "stdout",
     "output_type": "stream",
     "text": [
      "23576\n"
     ]
    }
   ],
   "source": [
    "print(len(duplicate_idx))"
   ]
  },
  {
   "cell_type": "code",
   "execution_count": 35,
   "metadata": {},
   "outputs": [
    {
     "name": "stdout",
     "output_type": "stream",
     "text": [
      "289597\n"
     ]
    }
   ],
   "source": [
    "print(len(duplicate_idx)) ### previous"
   ]
  },
  {
   "cell_type": "code",
   "execution_count": 22,
   "metadata": {
    "collapsed": true
   },
   "outputs": [],
   "source": [
    "df.drop( duplicate_idx, inplace=True)"
   ]
  },
  {
   "cell_type": "code",
   "execution_count": 23,
   "metadata": {
    "collapsed": true
   },
   "outputs": [],
   "source": [
    "df.drop( df[ df.interaction_type == 4 ].index, inplace=True)"
   ]
  },
  {
   "cell_type": "code",
   "execution_count": 24,
   "metadata": {},
   "outputs": [
    {
     "data": {
      "text/html": [
       "<div>\n",
       "<style scoped>\n",
       "    .dataframe tbody tr th:only-of-type {\n",
       "        vertical-align: middle;\n",
       "    }\n",
       "\n",
       "    .dataframe tbody tr th {\n",
       "        vertical-align: top;\n",
       "    }\n",
       "\n",
       "    .dataframe thead th {\n",
       "        text-align: right;\n",
       "    }\n",
       "</style>\n",
       "<table border=\"1\" class=\"dataframe\">\n",
       "  <thead>\n",
       "    <tr style=\"text-align: right;\">\n",
       "      <th></th>\n",
       "      <th>user_id</th>\n",
       "      <th>item_id</th>\n",
       "      <th>interaction_type</th>\n",
       "      <th>created_at</th>\n",
       "    </tr>\n",
       "  </thead>\n",
       "  <tbody>\n",
       "    <tr>\n",
       "      <th>4350402</th>\n",
       "      <td>7</td>\n",
       "      <td>1006839</td>\n",
       "      <td>1</td>\n",
       "      <td>1440965193</td>\n",
       "    </tr>\n",
       "    <tr>\n",
       "      <th>4038426</th>\n",
       "      <td>9</td>\n",
       "      <td>1053485</td>\n",
       "      <td>1</td>\n",
       "      <td>1444899932</td>\n",
       "    </tr>\n",
       "    <tr>\n",
       "      <th>4038424</th>\n",
       "      <td>9</td>\n",
       "      <td>944146</td>\n",
       "      <td>1</td>\n",
       "      <td>1444901029</td>\n",
       "    </tr>\n",
       "    <tr>\n",
       "      <th>4038423</th>\n",
       "      <td>9</td>\n",
       "      <td>944146</td>\n",
       "      <td>3</td>\n",
       "      <td>1444921016</td>\n",
       "    </tr>\n",
       "    <tr>\n",
       "      <th>4038425</th>\n",
       "      <td>9</td>\n",
       "      <td>944146</td>\n",
       "      <td>1</td>\n",
       "      <td>1444921021</td>\n",
       "    </tr>\n",
       "  </tbody>\n",
       "</table>\n",
       "</div>"
      ],
      "text/plain": [
       "         user_id  item_id  interaction_type  created_at\n",
       "4350402        7  1006839                 1  1440965193\n",
       "4038426        9  1053485                 1  1444899932\n",
       "4038424        9   944146                 1  1444901029\n",
       "4038423        9   944146                 3  1444921016\n",
       "4038425        9   944146                 1  1444921021"
      ]
     },
     "execution_count": 24,
     "metadata": {},
     "output_type": "execute_result"
    }
   ],
   "source": [
    "df.head()"
   ]
  },
  {
   "cell_type": "code",
   "execution_count": 25,
   "metadata": {},
   "outputs": [
    {
     "data": {
      "text/plain": [
       "7787679"
      ]
     },
     "execution_count": 25,
     "metadata": {},
     "output_type": "execute_result"
    }
   ],
   "source": [
    "len(df) "
   ]
  },
  {
   "cell_type": "code",
   "execution_count": 40,
   "metadata": {},
   "outputs": [
    {
     "data": {
      "text/plain": [
       "7521658"
      ]
     },
     "execution_count": 40,
     "metadata": {},
     "output_type": "execute_result"
    }
   ],
   "source": [
    "len(df) ### previous"
   ]
  },
  {
   "cell_type": "code",
   "execution_count": 26,
   "metadata": {
    "collapsed": true
   },
   "outputs": [],
   "source": [
    "# item filter\n",
    "item_pop = df.item_id.value_counts()\n",
    "good_items = item_pop[item_pop >= 50].index\n",
    "df = df[df.item_id.isin(good_items)]"
   ]
  },
  {
   "cell_type": "code",
   "execution_count": 27,
   "metadata": {},
   "outputs": [
    {
     "data": {
      "text/plain": [
       "2676525"
      ]
     },
     "execution_count": 27,
     "metadata": {},
     "output_type": "execute_result"
    }
   ],
   "source": [
    "len(df) "
   ]
  },
  {
   "cell_type": "code",
   "execution_count": 42,
   "metadata": {},
   "outputs": [
    {
     "data": {
      "text/plain": [
       "2507241"
      ]
     },
     "execution_count": 42,
     "metadata": {},
     "output_type": "execute_result"
    }
   ],
   "source": [
    "len(df) ### previous"
   ]
  },
  {
   "cell_type": "code",
   "execution_count": 28,
   "metadata": {
    "collapsed": true
   },
   "outputs": [],
   "source": [
    "# user filter\n",
    "user_pop = df.user_id.value_counts()\n",
    "good_user = user_pop[ (user_pop >= 10) & (user_pop <= 1000) ].index\n",
    "df = df[df.user_id.isin(good_user)]"
   ]
  },
  {
   "cell_type": "code",
   "execution_count": 29,
   "metadata": {},
   "outputs": [
    {
     "data": {
      "text/plain": [
       "(1438380, 64891, 20667)"
      ]
     },
     "execution_count": 29,
     "metadata": {},
     "output_type": "execute_result"
    }
   ],
   "source": [
    "len(df), len(df.user_id.unique()), len(df.item_id.unique())"
   ]
  },
  {
   "cell_type": "code",
   "execution_count": 44,
   "metadata": {},
   "outputs": [
    {
     "data": {
      "text/plain": [
       "(1287685, 60054, 19554)"
      ]
     },
     "execution_count": 44,
     "metadata": {},
     "output_type": "execute_result"
    }
   ],
   "source": [
    "len(df), len(df.user_id.unique()), len(df.item_id.unique()) ### previous"
   ]
  },
  {
   "cell_type": "code",
   "execution_count": 30,
   "metadata": {
    "collapsed": true
   },
   "outputs": [],
   "source": [
    "good_user_index = df.user_id.unique()\n",
    "np.random.shuffle(good_user_index ) "
   ]
  },
  {
   "cell_type": "code",
   "execution_count": 31,
   "metadata": {
    "collapsed": true
   },
   "outputs": [],
   "source": [
    "train_size = int(len(good_user_index)*0.8)\n",
    "test_size = int(len(good_user_index)*0.1)\n",
    "\n",
    "train_user = good_user_index[ : train_size]\n",
    "test_user= good_user_index[ train_size: train_size+test_size]\n",
    "valid_user = good_user_index[ train_size+test_size : ]\n"
   ]
  },
  {
   "cell_type": "code",
   "execution_count": 32,
   "metadata": {
    "collapsed": true
   },
   "outputs": [],
   "source": [
    "items = df[df.user_id.isin(train_user)].item_id.unique()"
   ]
  },
  {
   "cell_type": "code",
   "execution_count": 33,
   "metadata": {},
   "outputs": [
    {
     "data": {
      "text/plain": [
       "20662"
      ]
     },
     "execution_count": 33,
     "metadata": {},
     "output_type": "execute_result"
    }
   ],
   "source": [
    "len(items)"
   ]
  },
  {
   "cell_type": "code",
   "execution_count": 48,
   "metadata": {},
   "outputs": [
    {
     "data": {
      "text/plain": [
       "19552"
      ]
     },
     "execution_count": 48,
     "metadata": {},
     "output_type": "execute_result"
    }
   ],
   "source": [
    "len(items) ### previous"
   ]
  },
  {
   "cell_type": "code",
   "execution_count": 34,
   "metadata": {
    "collapsed": true
   },
   "outputs": [],
   "source": [
    "df = df[df.item_id.isin(items)]"
   ]
  },
  {
   "cell_type": "code",
   "execution_count": 35,
   "metadata": {
    "collapsed": true
   },
   "outputs": [],
   "source": [
    "item_map = {}\n",
    "idx = 1\n",
    "for index, row in df.iterrows():\n",
    "    item_id = row['item_id']\n",
    "    if item_id not in item_map:\n",
    "        item_map[item_id] = idx\n",
    "        idx += 1\n",
    "    row['item_id'] = item_map[item_id]\n",
    "    "
   ]
  },
  {
   "cell_type": "code",
   "execution_count": 36,
   "metadata": {},
   "outputs": [
    {
     "data": {
      "text/plain": [
       "(20662, array([    1,     2,     3, ..., 20660, 20661, 20662]))"
      ]
     },
     "execution_count": 36,
     "metadata": {},
     "output_type": "execute_result"
    }
   ],
   "source": [
    "len(item_map), df.item_id.unique()"
   ]
  },
  {
   "cell_type": "code",
   "execution_count": 37,
   "metadata": {},
   "outputs": [
    {
     "data": {
      "text/plain": [
       "1438096"
      ]
     },
     "execution_count": 37,
     "metadata": {},
     "output_type": "execute_result"
    }
   ],
   "source": [
    "len(df) "
   ]
  },
  {
   "cell_type": "code",
   "execution_count": 38,
   "metadata": {},
   "outputs": [
    {
     "data": {
      "text/plain": [
       "(64890, 22.162058868854984, 69.6010066789275)"
      ]
     },
     "execution_count": 38,
     "metadata": {},
     "output_type": "execute_result"
    }
   ],
   "source": [
    "df.user_id.nunique(), len(df) / df.user_id.nunique(), len(df)/ df.item_id.nunique()"
   ]
  },
  {
   "cell_type": "code",
   "execution_count": 48,
   "metadata": {},
   "outputs": [
    {
     "name": "stdout",
     "output_type": "stream",
     "text": [
      "22.162058868854984 21.248289399747794\n",
      "69.6010066789275 112.63461992687843\n"
     ]
    }
   ],
   "source": [
    "print( df.user_id.value_counts().mean(), df.user_id.value_counts().std() )\n",
    "print( df.item_id.value_counts().mean(), df.item_id.value_counts().std()  )\n",
    "# freq = []\n",
    "# for user in df.user_id.unique():\n",
    "#     freq.append( len(df[user_id = user] ) )\n",
    "# print( np.mean(freq), np.std(freq) )"
   ]
  },
  {
   "cell_type": "code",
   "execution_count": 51,
   "metadata": {},
   "outputs": [
    {
     "data": {
      "text/plain": [
       "(19552, array([    1,     2,     3, ..., 19550, 19551, 19552]))"
      ]
     },
     "execution_count": 51,
     "metadata": {},
     "output_type": "execute_result"
    }
   ],
   "source": [
    "len(item_map), df.item_id.unique() ### previous"
   ]
  },
  {
   "cell_type": "code",
   "execution_count": 52,
   "metadata": {},
   "outputs": [
    {
     "data": {
      "text/plain": [
       "1287679"
      ]
     },
     "execution_count": 52,
     "metadata": {},
     "output_type": "execute_result"
    }
   ],
   "source": [
    "len(df) ### previous"
   ]
  },
  {
   "cell_type": "code",
   "execution_count": 53,
   "metadata": {},
   "outputs": [
    {
     "data": {
      "text/plain": [
       "(60054, 21.442018849701935, 65.85919599018003)"
      ]
     },
     "execution_count": 53,
     "metadata": {},
     "output_type": "execute_result"
    }
   ],
   "source": [
    "df.user_id.nunique(), len(df) / df.user_id.nunique(), len(df)/ df.item_id.nunique()"
   ]
  },
  {
   "cell_type": "code",
   "execution_count": 39,
   "metadata": {
    "collapsed": true
   },
   "outputs": [],
   "source": [
    "t_list_train = []\n",
    "y_list_train = []\n",
    "t_list_test = []\n",
    "y_list_test = []\n",
    "t_list_valid = []\n",
    "y_list_valid = []\n",
    "\n",
    "\n",
    "for user in df.user_id.unique():\n",
    "    user_seq = df.loc[df.user_id==user]\n",
    "    if user in train_user:\n",
    "        t_list = t_list_train\n",
    "        y_list = y_list_train\n",
    "    elif user in valid_user:\n",
    "        t_list = t_list_valid\n",
    "        y_list = y_list_valid\n",
    "    elif user in test_user:\n",
    "        t_list = t_list_test\n",
    "        y_list = y_list_test\n",
    "    else:\n",
    "        print('error')\n",
    "    t_list.append(user_seq['created_at'].values)\n",
    "    y_list.append(user_seq['item_id'].values)\n",
    "        "
   ]
  },
  {
   "cell_type": "code",
   "execution_count": 40,
   "metadata": {
    "collapsed": true
   },
   "outputs": [],
   "source": [
    "pickle.dump(t_list_train, open('./standardV2/train_time.pickle', 'wb') )\n",
    "pickle.dump(y_list_train, open('./standardV2/train_item.pickle', 'wb') )\n",
    "pickle.dump(t_list_test, open('./standardV2/test_time.pickle', 'wb') )\n",
    "pickle.dump(y_list_test, open('./standardV2/test_item.pickle', 'wb') )\n",
    "pickle.dump(t_list_valid, open('./standardV2/valid_time.pickle', 'wb') )\n",
    "pickle.dump(y_list_valid, open('./standardV2/valid_item.pickle', 'wb') )"
   ]
  },
  {
   "cell_type": "code",
   "execution_count": null,
   "metadata": {
    "collapsed": true
   },
   "outputs": [],
   "source": [
    "t_list_train = []\n",
    "y_list_train = []\n",
    "t_list_test = []\n",
    "y_list_test = []\n",
    "t_list_valid = []\n",
    "y_list_valid = []\n",
    "\n",
    "cnt1 = 0\n",
    "cnt2 = 0\n",
    "cnt3 = 0\n",
    "hist1 = []\n",
    "hist2 = []\n",
    "for user in df.user_id.unique():\n",
    "    user_seq = df.loc[df.user_id==user]\n",
    "    if user in train_user:\n",
    "        t_list = t_list_train\n",
    "        y_list = y_list_train\n",
    "    elif user in valid_user:\n",
    "        t_list = t_list_valid\n",
    "        y_list = y_list_valid\n",
    "    elif user in test_user:\n",
    "        t_list = t_list_test\n",
    "        y_list = y_list_test\n",
    "    else:\n",
    "        print('error')\n",
    "    \n",
    "\n",
    "    t = user_seq['created_at'].values\n",
    "    y = user_seq['item_id'].values\n",
    "    t_list_sub = [t[0] ]\n",
    "    y_list_sub = [y[0] ]\n",
    "    for i in range(1, len(user_seq)):\n",
    "        hist2.append(t[i]-t[i-1])\n",
    "        if y[i] == y[i-1]:\n",
    "            hist1.append(t[i]-t[i-1])\n",
    "#             if t[i]-t[i-1] < 10:\n",
    "#                 cnt1 += 1\n",
    "#             else:\n",
    "#                 cnt2 += 1\n",
    "        else:\n",
    "            cnt3 += 1\n",
    "            t_list_sub.append(t[i])\n",
    "            y_list_sub.append(y[i])\n",
    "        \n",
    "        \n",
    "    t_list.append(np.asarray(t_list_sub))\n",
    "    y_list.append(np.asarray(y_list_sub))"
   ]
  },
  {
   "cell_type": "code",
   "execution_count": null,
   "metadata": {
    "collapsed": true
   },
   "outputs": [],
   "source": [
    "plt.hist( np.log10(np.asarray(hist1)+1) )"
   ]
  },
  {
   "cell_type": "code",
   "execution_count": null,
   "metadata": {
    "collapsed": true
   },
   "outputs": [],
   "source": [
    "plt.hist( np.log10(np.asarray(hist2)+1) )"
   ]
  },
  {
   "cell_type": "code",
   "execution_count": null,
   "metadata": {
    "collapsed": true
   },
   "outputs": [],
   "source": [
    "print(cnt1, cnt2, cnt3)"
   ]
  },
  {
   "cell_type": "code",
   "execution_count": 56,
   "metadata": {},
   "outputs": [
    {
     "data": {
      "text/plain": [
       "(48043, 6005, 6006)"
      ]
     },
     "execution_count": 56,
     "metadata": {},
     "output_type": "execute_result"
    }
   ],
   "source": [
    "len(t_list_train), len(t_list_test), len(t_list_valid)\n"
   ]
  },
  {
   "cell_type": "code",
   "execution_count": 57,
   "metadata": {},
   "outputs": [
    {
     "data": {
      "text/plain": [
       "(48043, 6005, 6006)"
      ]
     },
     "execution_count": 57,
     "metadata": {},
     "output_type": "execute_result"
    }
   ],
   "source": [
    "len(y_list_train), len(y_list_test), len(y_list_valid)\n"
   ]
  },
  {
   "cell_type": "code",
   "execution_count": 55,
   "metadata": {
    "collapsed": true
   },
   "outputs": [],
   "source": [
    "pickle.dump(t_list_train, open('./standard/train_time.pickle', 'wb') )\n",
    "pickle.dump(y_list_train, open('./standard/train_item.pickle', 'wb') )\n",
    "pickle.dump(t_list_test, open('./standard/test_time.pickle', 'wb') )\n",
    "pickle.dump(y_list_test, open('./standard/test_item.pickle', 'wb') )\n",
    "pickle.dump(t_list_valid, open('./standard/valid_time.pickle', 'wb') )\n",
    "pickle.dump(y_list_valid, open('./standard/valid_item.pickle', 'wb') )\n",
    "\n"
   ]
  },
  {
   "cell_type": "code",
   "execution_count": 2,
   "metadata": {
    "collapsed": true
   },
   "outputs": [],
   "source": [
    "t_list_train = pickle.load(open('./standard/train_time.pickle', 'rb') )\n",
    "y_list_train = pickle.load( open('./standard/train_item.pickle', 'rb') )\n",
    "t_list_test = pickle.load( open('./standard/test_time.pickle', 'rb') )\n",
    "y_list_test = pickle.load( open('./standard/test_item.pickle', 'rb') )\n",
    "t_list_valid = pickle.load( open('./standard/valid_time.pickle', 'rb') )\n",
    "y_list_valid = pickle.load( open('./standard/valid_item.pickle', 'rb') )"
   ]
  },
  {
   "cell_type": "code",
   "execution_count": 3,
   "metadata": {
    "collapsed": true
   },
   "outputs": [],
   "source": [
    "hist = []\n",
    "for seq_index in range(len(t_list_train)):\n",
    "    t_list = t_list_train[seq_index]\n",
    "    for i in range(1, len(t_list)):\n",
    "        diff = t_list[i]- t_list[i-1] \n",
    "        hist.append(diff)\n",
    "        "
   ]
  },
  {
   "cell_type": "code",
   "execution_count": 24,
   "metadata": {},
   "outputs": [
    {
     "data": {
      "text/plain": [
       "(array([ 22284.,  39730.,  51718.,  72972., 106582., 132492., 118220.,\n",
       "         75434.,  45480.,  27515.,  17729.,  13706.,  12981.,  13994.,\n",
       "         13394.,  19886.,  55220.,  56335.,  68173.,  62272.,  39722.,\n",
       "         13916.,   1231.]),\n",
       " array([      1,       2,       4,       8,      16,      32,      64,\n",
       "            128,     256,     512,    1024,    2048,    4096,    8192,\n",
       "          16384,   32768,   65536,  131072,  262144,  524288, 1048576,\n",
       "        2097152, 4194304, 8388608]),\n",
       " <a list of 23 Patch objects>)"
      ]
     },
     "execution_count": 24,
     "metadata": {},
     "output_type": "execute_result"
    },
    {
     "data": {
      "image/png": "[encoded data removed]",
      "text/plain": [
       "<Figure size 640x480 with 1 Axes>"
      ]
     },
     "metadata": {},
     "output_type": "display_data"
    }
   ],
   "source": [
    "plt.rcParams.update(plt.rcParamsDefault)\n",
    "plt.rc('font', family='serif', serif='Times')\n",
    "# plt.rc('text', usetex=True)\n",
    "plt.rc('xtick', labelsize=15)\n",
    "plt.rc('ytick', labelsize=15)\n",
    "# plt.rc('xlabel', labelsize=20)\n",
    "# plt.rc('ylabel', labelsize=20)\n",
    "plt.rc('axes', labelsize=20)\n",
    "plt.yticks(np.arange(7)*20000, ('', '20k', '40k', '60k', '80k', '100k', '120k'))\n",
    "\n",
    "bins = np.power( 2, np.arange(24) )\n",
    "plt.xlabel('time gap (sec)')\n",
    "plt.ylabel('#count')\n",
    "plt.xscale('log')\n",
    "\n",
    "plt.hist(hist,bins=bins)  "
   ]
  },
  {
   "cell_type": "code",
   "execution_count": 6,
   "metadata": {
    "collapsed": true
   },
   "outputs": [],
   "source": [
    "items = set()\n",
    "for y in y_list_train:\n",
    "    for yi in y:\n",
    "        items.add(yi)\n"
   ]
  },
  {
   "cell_type": "code",
   "execution_count": null,
   "metadata": {
    "collapsed": true
   },
   "outputs": [],
   "source": []
  },
  {
   "cell_type": "code",
   "execution_count": 7,
   "metadata": {},
   "outputs": [
    {
     "name": "stdout",
     "output_type": "stream",
     "text": [
      "19552\n"
     ]
    }
   ],
   "source": [
    "print( len(items) )"
   ]
  },
  {
   "cell_type": "code",
   "execution_count": 9,
   "metadata": {},
   "outputs": [
    {
     "name": "stdout",
     "output_type": "stream",
     "text": [
      "60054\n"
     ]
    }
   ],
   "source": [
    "print( len(y_list_train) + len(y_list_test) + len(t_list_valid))"
   ]
  },
  {
   "cell_type": "code",
   "execution_count": 11,
   "metadata": {},
   "outputs": [
    {
     "name": "stdout",
     "output_type": "stream",
     "text": [
      "1439991506 1447023536\n"
     ]
    }
   ],
   "source": [
    "mint = 1440965193\n",
    "maxt = 1440965193\n",
    "for t in t_list_train:\n",
    "    for ti in t:\n",
    "        mint = min(ti,  mint)\n",
    "        maxt = max(ti, maxt)\n",
    "print(mint, maxt)"
   ]
  }
 ],
 "metadata": {
  "kernelspec": {
   "display_name": "Python 3",
   "language": "python",
   "name": "python3"
  },
  "language_info": {
   "codemirror_mode": {
    "name": "ipython",
    "version": 3
   },
   "file_extension": ".py",
   "mimetype": "text/x-python",
   "name": "python",
   "nbconvert_exporter": "python",
   "pygments_lexer": "ipython3",
   "version": "3.6.9"
  }
 },
 "nbformat": 4,
 "nbformat_minor": 2
}
